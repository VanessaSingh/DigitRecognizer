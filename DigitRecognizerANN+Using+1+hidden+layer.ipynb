{
 "cells": [
  {
   "cell_type": "code",
   "execution_count": 1,
   "metadata": {
    "collapsed": true
   },
   "outputs": [],
   "source": [
    "#from keras.datasets import mnist\n",
    "import pandas as pd\n",
    "import matplotlib.pyplot as plt\n",
    "%matplotlib inline"
   ]
  },
  {
   "cell_type": "code",
   "execution_count": 2,
   "metadata": {
    "collapsed": true
   },
   "outputs": [],
   "source": [
    "#(X_train, y_train), (X_test, y_test) = mnist.load_data()\n",
    "train = pd.read_csv(\"/home/vanessa/lab/train.csv\")\n",
    "#test = pd.read_csv(\"/home/vanessa/digit/test.csv\")\n",
    "X_train = train.iloc[:, 1:]\n",
    "y_train = train.iloc[:, 0]\n",
    "#X_test = test.iloc[:,:]"
   ]
  },
  {
   "cell_type": "code",
   "execution_count": 3,
   "metadata": {
    "collapsed": true
   },
   "outputs": [],
   "source": [
    "X_train = X_train.as_matrix().reshape(X_train.shape[0],784).astype('float32')\n",
    "#shape returns the dimensions n,m where n is the no. of rows so we are reshaping each 28X28 into 784X1\n",
    "#X_test = X_test.as_matrix().reshape(X_test.shape[0],784).astype('float32')"
   ]
  },
  {
   "cell_type": "code",
   "execution_count": 4,
   "metadata": {
    "collapsed": true
   },
   "outputs": [],
   "source": [
    "from sklearn.model_selection import train_test_split\n",
    "X_train, X_test, y_train, y_test = train_test_split(X_train, y_train, test_size=0.050, random_state=42)"
   ]
  },
  {
   "cell_type": "code",
   "execution_count": 5,
   "metadata": {},
   "outputs": [
    {
     "data": {
      "text/plain": [
       "2100"
      ]
     },
     "execution_count": 5,
     "metadata": {},
     "output_type": "execute_result"
    }
   ],
   "source": [
    "#y_train.shape[0]\n",
    "X_test.shape[0]"
   ]
  },
  {
   "cell_type": "code",
   "execution_count": 6,
   "metadata": {},
   "outputs": [
    {
     "name": "stderr",
     "output_type": "stream",
     "text": [
      "Using TensorFlow backend.\n"
     ]
    }
   ],
   "source": [
    "import numpy\n",
    "from keras.models import Sequential\n",
    "from keras.layers import Dense\n",
    "from keras.layers import Dropout\n",
    "from keras.utils import np_utils"
   ]
  },
  {
   "cell_type": "code",
   "execution_count": null,
   "metadata": {
    "collapsed": true
   },
   "outputs": [],
   "source": []
  },
  {
   "cell_type": "code",
   "execution_count": 99,
   "metadata": {},
   "outputs": [
    {
     "data": {
      "text/plain": [
       "784"
      ]
     },
     "execution_count": 99,
     "metadata": {},
     "output_type": "execute_result"
    }
   ],
   "source": [
    "X_train.shape[1]"
   ]
  },
  {
   "cell_type": "code",
   "execution_count": 100,
   "metadata": {},
   "outputs": [
    {
     "data": {
      "text/plain": [
       "2100"
      ]
     },
     "execution_count": 100,
     "metadata": {},
     "output_type": "execute_result"
    }
   ],
   "source": [
    "X_test.shape[0]"
   ]
  },
  {
   "cell_type": "code",
   "execution_count": 101,
   "metadata": {
    "collapsed": true
   },
   "outputs": [],
   "source": [
    "# why do we need to normalize\n",
    "X_train = X_train/255\n",
    "X_test = X_test/255"
   ]
  },
  {
   "cell_type": "code",
   "execution_count": 102,
   "metadata": {},
   "outputs": [
    {
     "data": {
      "text/plain": [
       "10"
      ]
     },
     "execution_count": 102,
     "metadata": {},
     "output_type": "execute_result"
    }
   ],
   "source": [
    "y_train = np_utils.to_categorical(y_train)\n",
    "y_test = np_utils.to_categorical(y_test)\n",
    "num_classes = y_test.shape[1]\n",
    "num_classes"
   ]
  },
  {
   "cell_type": "code",
   "execution_count": 103,
   "metadata": {
    "collapsed": true
   },
   "outputs": [],
   "source": [
    "model = Sequential()\n",
    "model.add(Dense(900, input_dim = 28*28, activation = 'sigmoid'))\n",
    "model.add(Dense(10, activation = 'sigmoid'))\n",
    "model.compile(loss = 'mean_squared_error', optimizer = 'adam', metrics = ['accuracy'])   "
   ]
  },
  {
   "cell_type": "code",
   "execution_count": 107,
   "metadata": {
    "scrolled": true
   },
   "outputs": [
    {
     "name": "stdout",
     "output_type": "stream",
     "text": [
      "Train on 39900 samples, validate on 2100 samples\n",
      "Epoch 1/25\n",
      "5s - loss: 2.7815e-04 - acc: 0.9980 - val_loss: 0.0037 - val_acc: 0.9800\n",
      "Epoch 2/25\n",
      "6s - loss: 2.6721e-04 - acc: 0.9981 - val_loss: 0.0037 - val_acc: 0.9800\n",
      "Epoch 3/25\n",
      "6s - loss: 2.5757e-04 - acc: 0.9981 - val_loss: 0.0036 - val_acc: 0.9790\n",
      "Epoch 4/25\n",
      "7s - loss: 2.5133e-04 - acc: 0.9981 - val_loss: 0.0037 - val_acc: 0.9795\n",
      "Epoch 5/25\n",
      "7s - loss: 2.4499e-04 - acc: 0.9982 - val_loss: 0.0037 - val_acc: 0.9786\n",
      "Epoch 6/25\n",
      "7s - loss: 2.3948e-04 - acc: 0.9982 - val_loss: 0.0037 - val_acc: 0.9800\n",
      "Epoch 7/25\n",
      "6s - loss: 2.4194e-04 - acc: 0.9982 - val_loss: 0.0037 - val_acc: 0.9790\n",
      "Epoch 8/25\n",
      "6s - loss: 2.2959e-04 - acc: 0.9982 - val_loss: 0.0037 - val_acc: 0.9790\n",
      "Epoch 9/25\n",
      "6s - loss: 2.2397e-04 - acc: 0.9983 - val_loss: 0.0037 - val_acc: 0.9786\n",
      "Epoch 10/25\n",
      "6s - loss: 2.1712e-04 - acc: 0.9983 - val_loss: 0.0037 - val_acc: 0.9795\n",
      "Epoch 11/25\n",
      "7s - loss: 2.1279e-04 - acc: 0.9983 - val_loss: 0.0038 - val_acc: 0.9786\n",
      "Epoch 12/25\n",
      "5s - loss: 2.0696e-04 - acc: 0.9983 - val_loss: 0.0038 - val_acc: 0.9790\n",
      "Epoch 13/25\n",
      "6s - loss: 2.0224e-04 - acc: 0.9984 - val_loss: 0.0037 - val_acc: 0.9786\n",
      "Epoch 14/25\n",
      "8s - loss: 2.0594e-04 - acc: 0.9984 - val_loss: 0.0038 - val_acc: 0.9800\n",
      "Epoch 15/25\n",
      "6s - loss: 2.0156e-04 - acc: 0.9985 - val_loss: 0.0038 - val_acc: 0.9767\n",
      "Epoch 16/25\n",
      "6s - loss: 1.8846e-04 - acc: 0.9984 - val_loss: 0.0038 - val_acc: 0.9781\n",
      "Epoch 17/25\n",
      "6s - loss: 1.8391e-04 - acc: 0.9985 - val_loss: 0.0037 - val_acc: 0.9781\n",
      "Epoch 18/25\n",
      "7s - loss: 1.8205e-04 - acc: 0.9985 - val_loss: 0.0037 - val_acc: 0.9781\n",
      "Epoch 19/25\n",
      "6s - loss: 1.8099e-04 - acc: 0.9985 - val_loss: 0.0037 - val_acc: 0.9790\n",
      "Epoch 20/25\n",
      "6s - loss: 1.7504e-04 - acc: 0.9985 - val_loss: 0.0038 - val_acc: 0.9781\n",
      "Epoch 21/25\n",
      "6s - loss: 1.6935e-04 - acc: 0.9985 - val_loss: 0.0037 - val_acc: 0.9781\n",
      "Epoch 22/25\n",
      "6s - loss: 1.6818e-04 - acc: 0.9985 - val_loss: 0.0037 - val_acc: 0.9786\n",
      "Epoch 23/25\n",
      "6s - loss: 1.7175e-04 - acc: 0.9986 - val_loss: 0.0038 - val_acc: 0.9776\n",
      "Epoch 24/25\n",
      "6s - loss: 1.6978e-04 - acc: 0.9986 - val_loss: 0.0037 - val_acc: 0.9790\n",
      "Epoch 25/25\n",
      "6s - loss: 1.8139e-04 - acc: 0.9986 - val_loss: 0.0037 - val_acc: 0.9790\n",
      "Baseline Error: 2.10%\n"
     ]
    }
   ],
   "source": [
    "model.fit(X_train, y_train, validation_data = (X_test, y_test), epochs = 25, batch_size=300, verbose=2)\n",
    "scores = model.evaluate(X_test, y_test, verbose=0)\n",
    "print(\"Baseline Error: %.2f%%\" % (100-scores[1]*100))"
   ]
  },
  {
   "cell_type": "code",
   "execution_count": 108,
   "metadata": {
    "collapsed": true
   },
   "outputs": [],
   "source": [
    "#epochs\n",
    "#hidden layer neurons\n",
    "#softmax\n",
    "#categ_crossen"
   ]
  },
  {
   "cell_type": "code",
   "execution_count": 109,
   "metadata": {
    "collapsed": true
   },
   "outputs": [],
   "source": [
    "test = pd.read_csv(\"/home/vanessa/lab/test.csv\")"
   ]
  },
  {
   "cell_type": "code",
   "execution_count": 110,
   "metadata": {
    "collapsed": true
   },
   "outputs": [],
   "source": [
    "X_test = test.values.astype('float32')"
   ]
  },
  {
   "cell_type": "code",
   "execution_count": 111,
   "metadata": {
    "collapsed": true
   },
   "outputs": [],
   "source": [
    "import pandas as pd\n",
    "predictions = model.predict_classes(X_test, verbose = 0)\n",
    "submissions=pd.DataFrame({\"ImageId\": list(range(1,len(predictions)+1)),\n",
    "                         \"Label\": predictions})\n",
    "submissions.to_csv(\"DR.csv\", index=False, header=True)"
   ]
  },
  {
   "cell_type": "code",
   "execution_count": null,
   "metadata": {
    "collapsed": true
   },
   "outputs": [],
   "source": []
  }
 ],
 "metadata": {
  "kernelspec": {
   "display_name": "Python 3",
   "language": "python",
   "name": "python3"
  },
  "language_info": {
   "codemirror_mode": {
    "name": "ipython",
    "version": 3
   },
   "file_extension": ".py",
   "mimetype": "text/x-python",
   "name": "python",
   "nbconvert_exporter": "python",
   "pygments_lexer": "ipython3",
   "version": "3.6.2"
  }
 },
 "nbformat": 4,
 "nbformat_minor": 2
}
